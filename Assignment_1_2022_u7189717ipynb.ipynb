{
 "cells": [
  {
   "cell_type": "markdown",
   "metadata": {},
   "source": [
    "<h1 align='center'> COMP2420/COMP6420 - Introduction to Data Management,<br/> Analysis and Security</h1>\n",
    "\n",
    "<h1 align='center'> Assignment - 1 (2022)</h1>\n",
    "\n",
    "-----\n",
    "\n",
    "|**Maximum Marks**         |**100**\n",
    "|--------------------------|--------\n",
    "|  **Weight**              |  **15% of the Total Course Grade**\n",
    "|  **Submission deadline** |  **TBA**\n",
    "|  **Submission mode**     |  **Electronic, Using GitLab**\n",
    "|  **Penalty**             |  **100% after the deadline**\n",
    "\n",
    "\n",
    "## Learning Outcomes\n",
    "The following learning outcomes apply to this piece:\n",
    "- **LO3** - Demonstrate basic knowledge and understanding of descriptive and predictive data analysis methods, optimization and search, and knowledge representation.\n",
    "- **LO4** - Formulate and extract descriptive and predictive statistics from data\n",
    "- **LO5** - Analyse and interpret results from descriptive and predictive data analysis\n",
    "- **LO6** - Apply their knowledge to a given problem domain and articulate potential data analysis problems\n",
    "\n",
    "\n",
    "## Submission\n",
    "\n",
    "You need to submit the following items:\n",
    "- The notebook `Assignment_1_2022_uXXXXXXX.ipynb` (where uXXXXXXX is your uid) \n",
    "- A completed `statement-of-originality.md`, found in the root of the forked gitlab repo.\n",
    "\n",
    "Submissions are performed by pushing to your forked GitLab assignment repository. For a refresher on forking and cloning repositories, please refer to `Lab 1`. Issues with your Git repo (with the exception of a CECS/ANU wide Gitlab failure) will not be considered as grounds for an extension. You will also need to add your details below. Any variation of this will result in a `zero mark`.\n",
    "\n",
    "***** \n",
    "\n",
    "### Notes:\n",
    "\n",
    "* It is strongly advised to read the whole assignment before attempting it and have at least a cursory glance at the dataset in order to gauge the requirements and understand what you need to do as a bigger picture.\n",
    "* Backup your assignment to your Gitlab repo often. \n",
    "* Extra reading and research will be required. Make sure you include all references in your Statement of Originality. If this does not occur, at best marks will be deduced. Otherwise, academic misconduct processes will be followed.\n",
    "* For answers requiring free form written text, use the designated cells denoted by `YOUR WRITTEN ANSWER HERE` -- double click on the cell to write inside them.\n",
    "* For all coding questions please write your code after the comment `YOUR CODE HERE`. Remember to document your code using comments and doc strings as appropriate.\n",
    "* In the process of testing your code, you can insert more cells or use print statements for debugging, but when submitting your file remember to remove these cells and calls respectively. You are welcome to add additional cells to the final submission, provided they add value to the overall piece.\n",
    "* You will be marked on **correctness** and **readability** of your code, if your marker can't understand your code your marks may be deducted.\n",
    "* Comment your code.\n",
    "* Before submitting, restart the kernel in Jupyter Lab and re-run all cells before submitting your code. This will ensure the namespace has not kept any old variables, as these won't come across in submission and your code will not run. Without this, you could lose a significant number of marks.\n",
    "\n",
    "*****\n",
    "\n",
    "Credit: This assignment is based on previous work by Alex Niven in COMP2420/6420.  We thank Alex for allowing us to use his work and build on it."
   ]
  },
  {
   "cell_type": "markdown",
   "metadata": {},
   "source": [
    "### Enter your Student ID below:"
   ]
  },
  {
   "cell_type": "raw",
   "metadata": {},
   "source": [
    "Student ID here\n",
    "u7189727"
   ]
  },
  {
   "cell_type": "markdown",
   "metadata": {
    "tags": []
   },
   "source": [
    ",,,******\n",
    "## Context\n",
    "You have been hired as a data scientist on a cybersecurity consulting team.  Your team has been tasked with advising government on the risk and impact of recent cybersecurity threats. \n",
    "\n",
    "### What is cybersecurity and why do we care?\n",
    "\n",
    "“Cybersecurity is the practice of protecting critical systems and sensitive information from digital attacks” (IBM,2022).  Attackers normally target vulnerabilities in software and hardware systems in order to either bring down a system or steal sensitive or personal information.  Common cyber threats include malware, phishing, ransomware and distributed denial of service (DDoS).  You can read more about cyber threats on [the Australian Cyber Security Centre web page](https://www.cyber.gov.au/acsc/individuals-and-families/threats).  \n",
    "\n",
    "Cyber-attacks can have significant negative impact to individuals, businesses and society at large.  They can lead to loss of privacy and money, cause disruption in key services and even cause death (some examples are given in [this article on impact of cyber-attacks here](https://www.securitymagazine.com/articles/96337-the-real-world-impacts-of-cyberattacks)).  Moreover, dealing with cyber-attacks is expensive.  IBM reports that the cost of a data breach in 2020 was USD $3.85 million globally (IBM, 2022).  \n",
    "\n",
    "\n",
    "### How could you start your underlying investigation?\n",
    "\n",
    "As a data scientist, you need to understand what problem you are trying to solve first.  In this particular case, you are trying to assess the risk and impact of recent cybersecurity threats.  In order to do so, you need to know what are those threats and have a method to carry out this assessment.  Where can you find this information?  There are various sources you could draw from.  To get started, your team has identified a few relevant systems for your investigation as described next.\n",
    "\n",
    "#### The Common Vulnerability and Exposures (CVE) system\n",
    "The CVE system is like a database that holds a number of the publicly known vulnerabilities that exist for software. It is the de-facto identifying system for publicly exposed vulnerabilities in systems, used by big tech companies such as  Apple, Microsoft, Google, Red Hat, etc. The CVE is a schema that allows the consistent storing of information regarding vulnerabilities.  More reading on the CVE is [here](https://www.cve.org/)\n",
    "\n",
    "The CVE system was developed by [The MITRE Corporation](https://www.mitre.org/) almost 20 years ago, and is now the de-facto system for providing identifiers for vulnerabilities in various systems. \n",
    "\n",
    "CVE defines a vulnerability as, _\"A weakness in the computational logic (e.g., code) found in software and hardware components that, when exploited, results in a negative impact to confidentiality, integrity, or availability\"._ A CVE can affect multiple products and multiple software versions of a product.\n",
    "\n",
    "However, the CVE system alone is incomplete, and extended by organisations such as the **National Vulnerability Database (NVD)**.\n",
    "\n",
    "#### The Common Weakness Enumeration (CWE) system\n",
    "There is another related system to CVE called the [Common Weakness Enumeration (CWE)](https://cwe.mitre.org), also developed by MITRE. CWE categorises types of software vulnerabilities whereas CVE is just a list of currently known vulnerabilities regarding specific systems and products (Camacho, 2021) .  Each CWE identifier is related to a specific type of weakness which will have its own unique characteristics, rather than specific instances of vulnerabilities within products or systems. \n",
    "The CWE's are broadly viewed in three categories:\n",
    "- [by Software Development](https://cwe.mitre.org/data/definitions/699.html)\n",
    "- [by Hardware Design](https://cwe.mitre.org/data/definitions/1194.html)\n",
    "- [by Research Concepts](https://cwe.mitre.org/data/definitions/1000.html)\n",
    "\n",
    "#### The Common Vulnerability Scoring System (CVSS)\n",
    "CVSS is the de-facto scoring system for determining the impacts of vulnerabilities in the CVE system.  It is developed and maintained by the [National Vulnerability Database (NVD)](https://nvd.nist.gov).  All vulnerabilities in the NVD have been assigned a CVE identifier. Developed by the Forum of Incident Response and Security Teams (FIRST), the CVSS system is now in its 3<sup>rd</sup> major iteration (version 3).\n",
    "\n",
    "### The Assignment Dataset: based on the Common Vulnerability Scoring System (CVSS) data\n",
    "The assignment dataset is derived from a subset of the Common Vulnerability Scoring System (CVSS) data for the year 2020 available from the [National Vulnerability Database (NVD)](https://nvd.nist.gov). \n",
    "\n",
    "Note that while over 1000 CWE identifiers exist, only a small subset will be present within our dataset. This is due to the NVD using their own subset of them, which can be found on the [NVD website](https://nvd.nist.gov/vuln/categories).\n",
    "\n",
    "We have further filtered the 2020 CVSS dataset by retaining only the records that relate to the Software Development viewpoint. In our dataset, each unique CVE is mapped to one or more CWE's and is given a vulnerability score that is assigned by the CVSS scoring system. \n",
    "\n",
    "\n",
    "\n",
    "### What should I do next? \n",
    "Good question! Now that you have some background, you can work with the given CVE-based dataset as a starting point to explore a number of questions to help in your investigation.  You can draw on your python, data analysis and basic machine learning skills to work towards the goal that your team has been tasked with.\n",
    "\n",
    "\n",
    "*****\n",
    "\n",
    "References\n",
    "\n",
    "IBM. 2022. What is Cybersecurity? | IBM. [online] Available at: [https://www.ibm.com/au-en/topics/cybersecurity](https://www.ibm.com/au-en/topics/cybersecurity). (Accessed 3 March 2022).\n",
    "\n",
    "Camacho, R. 2021.  All about CWE: Common Weakness Enumeration. Parasoft. [https://www.parasoft.com/blog/what-is-cwe/#:~:text=In%20short%3A%20the%20difference%20between,regarding%20specific%20systems%20and%20products.](https://www.parasoft.com/blog/what-is-cwe/#:~:text=In%20short%3A%20the%20difference%20between,regarding%20specific%20systems%20and%20products.)"
   ]
  },
  {
   "cell_type": "markdown",
   "metadata": {
    "tags": []
   },
   "source": [
    "**********\n",
    "## Data Description\n",
    "We have a sizable dataset to give you (in the form of 2 files), so it is wise to consider your code in terms of complexity to ensure it doesn't take 30 minutes to run a single line. \n",
    "\n",
    "The below tables provide an outline of the data, broken down into the columns of the dataset features. \n",
    "\n",
    "###  The CVSS data table\n",
    "| Column Name    | Description    |\n",
    "| :------------- | :------------- |\n",
    "| cve_id         | The CVE identifier for the vulnerability |\n",
    "| assigner       | The entity who assigned the CVE |\n",
    "| description     | A description of the vulnerability |\n",
    "| cwe_ids         | The CWE identifiers of the vulnerability. Note that there can be multiple cwe_id's attached to one cve_id |\n",
    "| refs            | url links to the initial postings of the vulnerability |\n",
    "| ref_names       | other information which provide more reference about the CVE |\n",
    "| ref_sources     | other information which provide more reference about the CVE |\n",
    "| ref_tags        | other information which provide more reference about the CVE |\n",
    "| v3_attackVector | CVSSv3 field, identifier for how the vulnerability would be used in an attack |\n",
    "| v3_attackComplexity | CVSSv3 field, identifier for the difficulty of performing an attack using the vulnerability |\n",
    "| v3_privilegesRequired | CVSSv3 field, an identifier for the privileges required in the system to use the vulnerability successfully |\n",
    "| v3_userInteraction | CVSSv3 field, an identifier for whether a user needs to actively interact for the vulnerability to be exploited or not |\n",
    "| v3_scope | CVSSv3 field, an identifier for whether the scope of an item changes when using the vulnerability. e.g: whether a regular user becomes a superuser. |\n",
    "| v3_confidentialityImpact | CVSSv3 field, identifier for the impact upon the confidentiality of information in the product/service after using the vulnerability |\n",
    "| v3_integrityImpact | CVSSv3 field, identifier for the impact upon the integrity of information in the product/service after using the vulnerability |\n",
    "| v3_availabilityImpact | CVSSv3, field, identifier for the impact upon the availability of information in the product/service after using the vulnerability |\n",
    "| v3_exploitabilityScore | The Exploitability Score is a sub score of the CVSS Base Score |\n",
    "| v3_impactScore | The Impact Score is a sub score of the CVSS Base Score |\n",
    "| v3_baseScore | The CVSS score (out of 10) given to the vulnerability based on CVSS v3.1 |\n",
    "| v3_baseSeverity | A textual representation of the numeric Base Score|\n",
    "\n",
    "We only use the Base Metrics out of the [CVSS Metrics](https://www.first.org/cvss/v3-1/media/MetricGroups.svg). While there are additional metrics that can be applied, most are variants. Therefore, we will use the base metrics. The column names starting with 'v3_' are CVSS v3.1 metrics. Refer to the specification document  [CVSSv3.1 Guide](https://www.first.org/cvss/v3.1/specification-document) for more information on the metrics. \n",
    "\n",
    "**Note:** While this dataset has 20 columns, the data in the last four columns have been purposely omitted (see Question 2 of the Assignment)."
   ]
  },
  {
   "cell_type": "markdown",
   "metadata": {
    "tags": []
   },
   "source": [
    "###  The CVE to Configurations mapping table\n",
    "| Column Name    | Description    |\n",
    "| :------------- | :------------- |\n",
    "| cve_id         | The CVE identifier for the vulnerability |\n",
    "| vendor         | The name of the vendor who produces the product |\n",
    "| product_name   | The name of the affected product       |\n",
    "| version        | List of the affected product versions |\n",
    "\n",
    "Recall that a CVE can affect multiple products and multiple software versions of a product."
   ]
  },
  {
   "cell_type": "markdown",
   "metadata": {},
   "source": [
    "*******************\n",
    "## Package Imports"
   ]
  },
  {
   "cell_type": "code",
   "execution_count": 2,
   "metadata": {},
   "outputs": [],
   "source": [
    "# Common Imports\n",
    "import numpy as np\n",
    "import pandas as pd\n",
    "from scipy import stats\n",
    "from sklearn.linear_model import LinearRegression\n",
    "import matplotlib.pyplot as plt\n",
    "from matplotlib import cm\n",
    "import seaborn as sns\n",
    "plt.style.use('seaborn')\n",
    "%matplotlib inline"
   ]
  },
  {
   "cell_type": "code",
   "execution_count": 3,
   "metadata": {},
   "outputs": [],
   "source": [
    "# Import additional modules here as required\n",
    "# It is unlikely that you would need any additional modules, however we had added space here just in case you feel \n",
    "#     extras are required. Note that justification as to WHY you are using them MUST be provided.\n",
    "#\n",
    "# Note that only modules in the standard Anaconda distribution are allowed. If you need to install it manually, it is not an accepted package.\n",
    "#\n",
    "import math #this is for qn2 to calculate the helper function'round_up'\n",
    "from collections import Counter #this is use for counting occurrence of cwe ids.\n",
    "from sklearn.model_selection import train_test_split    # testing our models\n",
    "from sklearn.metrics import mean_squared_error #calculate mean squared error"
   ]
  },
  {
   "cell_type": "markdown",
   "metadata": {
    "tags": []
   },
   "source": [
    "****\n",
    "## Q1: Loading and Processing the Data\n",
    "Your first step in any data analysis and visualisation task is to load the data and make it usable. Note that the data consists of various types (Categorical, Numerical, Text, etc.). Also the dataset may not be perfect; it may contain missing data or invalid values at some places. It would be wise to perform some pre-processing to make the data easier to work with. \n",
    "\n",
    "#### (Q1.a) You need to load the following two files available in the './data' folder into a suitable data structure:\n",
    "- cvss_dataset.csv\n",
    "- cve_configurations_mapping.csv\n",
    "\n",
    "Please write out the code you would use to load those files and the code you would use to perform some pre-processing. (2 marks)\n",
    "\n",
    "#### (Q1.b)You also need to briefly outline your steps and justify your decisions. \n",
    "This is an open-ended question, and marks will be awarded for logical processing of data. (3 marks)\n",
    "\n",
    "**HINTS** -\n",
    "* You might need to split some columns into two or combine two columns into one to make them more useful from an analysis point-of-view.\n",
    "* You might need to rename some columns.\n",
    "* It may be worth recoding the CVSS data to the numerical values required for Q2.\n",
    "* You are welcome to drop unwanted columns (but don't remove or impute values for the last four columns as you will be asked to recreate these columns in Q2)\n",
    "* If you wish, you may combine the data available in both files.\n",
    "\n",
    "<span style= 'float: right;'><b>[5 marks]</b></span>"
   ]
  },
  {
   "cell_type": "code",
   "execution_count": 4,
   "metadata": {},
   "outputs": [],
   "source": [
    "# YOUR CODE HERE (Q1.a)\n",
    "cvss_data = pd.read_csv('./data/cvss_dataset.csv')\n",
    "cvss_data = cvss_data.rename(columns={'cwe_ids': 'cwe_id','refs':'ref'})\n",
    "cvss_data = cvss_data.drop(columns=['ref','ref_names','description','ref_sources','ref_tags','assigner'])\n",
    "\n",
    "cve_data = pd.read_csv('./data/cve_configurations_mapping.csv')\n",
    "cve_data = cve_data.rename(columns={'product_name': 'product'})\n",
    "# (ADD ANY ADDITIONAL CELLS AS REQUIRED)"
   ]
  },
  {
   "cell_type": "raw",
   "metadata": {},
   "source": [
    "# YOUR WRITTEN ANSWER HERE (Q1.b)\n",
    "By renaming the cve.csv columns 'product_name' and 'cve_id' to 'product' and 'id' helps me to be more clear with the names. More importantly, I wish to reduce the word sizes, so I rename the two columns into shorter names.\n",
    "For cvss.csv, I chose to remove the 'description', 'refs', 'ref_names','ref_sources' and 'ref_tags'becasue the data in the columns are unnecessary for data visualization, these data in the columns are just providing further information for the references used in cvss. "
   ]
  },
  {
   "cell_type": "markdown",
   "metadata": {},
   "source": [
    "******\n",
    "## Q2: Recreating Missing Data\n",
    "While the dataset that has been provided is thorough, you may have already noticed that the last four columns (i.e. 'v3_exploitabilityScore', 'v3_impactScore', 'v3_baseScore', 'v3_baseSeverity) are empty. These are related to the CVSSv3.1 base score and are well documented in the specification documents  [CVSSv3.1 Guide](https://www.first.org/cvss/v3.1/specification-document) and [CVSS calculator](https://www.first.org/cvss/calculator/3.1).\n",
    "\n",
    "Your task is as follows:\n",
    "\n",
    "#### (Q2.a) Implement a **CVSSv3.1** Base Score calculator and recalculate values for the last four columns for each applicable entry in the dataset. (5 marks) \n",
    "\n",
    "#### (Q2.b) Explain how you performed the calculations. Provide the [Equations](https://www.first.org/cvss/v3-1/media/EquationsDiagram.svg) that you used. (5 marks)\n",
    "\n",
    "<span style= 'float: right;'><b>[10 marks]</b></span>\n",
    "\n",
    "<br><br>\n",
    "**Additional Questions for COMP6420 students: [worth extra 5 marks]** \n",
    "\n",
    "#### (Q2.c) Please explain how would you validate that your calculations are correct? (3 marks)\n",
    "\n",
    "#### (Q2.d) Provide some evidence that you have validated your calculations. (2 marks)"
   ]
  },
  {
   "cell_type": "code",
   "execution_count": 5,
   "metadata": {},
   "outputs": [],
   "source": [
    "# YOUR CODE HERE\n",
    "index = cvss_data.index\n",
    "\n",
    "# change av to respective numerical values\n",
    "for i in index:\n",
    "    if cvss_data.loc[i,\"v3_attackVector\"] == \"NETWORK\":\n",
    "        cvss_data.loc[i,\"v3_attackVector\"] = 0.85\n",
    "    elif cvss_data.loc[i,\"v3_attackVector\"] == \"LOCAL\":\n",
    "        cvss_data.loc[i,\"v3_attackVector\"] = 0.55\n",
    "    elif cvss_data.loc[i,\"v3_attackVector\"] == \"PHYSICAL\":\n",
    "        cvss_data.loc[i,\"v3_attackVector\"] = 0.2\n",
    "    elif cvss_data.loc[i,\"v3_attackVector\"] == \"ADJACENT_NETWORK\":\n",
    "        cvss_data.loc[i,\"v3_attackVector\"] = 0.62\n",
    "        \n",
    "#change ac to respective numerical values\n",
    "for i in index:\n",
    "    if cvss_data.loc[i,\"v3_attackComplexity\"] == \"LOW\":\n",
    "        cvss_data.loc[i,\"v3_attackComplexity\"] = 0.77\n",
    "    elif cvss_data.loc[i,\"v3_attackComplexity\"] == \"NONE\":\n",
    "        cvss_data.loc[i,\"v3_attackComplexity\"] = 0.85\n",
    "    elif cvss_data.loc[i,\"v3_attackComplexity\"] == \"HIGH\":\n",
    "        cvss_data.loc[i,\"v3_attackComplexity\"] = 0.44\n",
    "    \n",
    "\n",
    "#change pr to respective numerical values\n",
    "for i in index:\n",
    "    if cvss_data.loc[i,\"v3_privilegesRequired\"] == \"NONE\":\n",
    "        cvss_data.loc[i,\"v3_privilegesRequired\"] = 0.85\n",
    "    elif cvss_data.loc[i,\"v3_privilegesRequired\"] == \"LOW\":\n",
    "        if cvss_data.loc[i,\"v3_scope\"] == \"CHANGED\":\n",
    "            cvss_data.loc[i,\"v3_privilegesRequired\"] = 0.68\n",
    "        elif cvss_data.loc[i,\"v3_scope\"] == \"UNCHANGED\":\n",
    "            cvss_data.loc[i,\"v3_privilegesRequired\"] = 0.62\n",
    "    elif cvss_data.loc[i,\"v3_privilegesRequired\"] == \"HIGH\":\n",
    "        if cvss_data.loc[i,\"v3_scope\"] == \"CHANGED\":\n",
    "            cvss_data.loc[i,\"v3_privilegesRequired\"] = 0.5\n",
    "        elif cvss_data.loc[i,\"v3_scope\"] == \"UNCHANGED\":\n",
    "            cvss_data.loc[i,\"v3_privilegesRequired\"] = 0.27\n",
    "            \n",
    "#change UI to respective numerical values\n",
    "for i in index:\n",
    "    if cvss_data.loc[i,\"v3_userInteraction\"] == \"NONE\":\n",
    "        cvss_data.loc[i,\"v3_userInteraction\"] = 0.85\n",
    "    elif cvss_data.loc[i,\"v3_userInteraction\"] == \"REQUIRED\":\n",
    "        cvss_data.loc[i,\"v3_userInteraction\"] = 0.62\n",
    "        \n",
    "# (ADD ANY ADDITIONAL CELLS AS REQUIRED)"
   ]
  },
  {
   "cell_type": "code",
   "execution_count": 6,
   "metadata": {},
   "outputs": [],
   "source": [
    "#change numerical values for confidentiality, avaliability, integrity\n",
    "for i in index:\n",
    "    if cvss_data.loc[i,\"v3_confidentialityImpact\"] == \"NONE\":\n",
    "        cvss_data.loc[i,\"v3_confidentialityImpact\"] = 0\n",
    "    elif cvss_data.loc[i,\"v3_confidentialityImpact\"] == \"LOW\":\n",
    "        cvss_data.loc[i,\"v3_confidentialityImpact\"] = 0.22\n",
    "    elif cvss_data.loc[i,\"v3_confidentialityImpact\"] == \"HIGH\":\n",
    "        cvss_data.loc[i,\"v3_confidentialityImpact\"] = 0.56\n",
    "\n",
    "for i in index:\n",
    "    if cvss_data.loc[i,\"v3_integrityImpact\"] == \"NONE\":\n",
    "        cvss_data.loc[i,\"v3_integrityImpact\"] = 0\n",
    "    elif cvss_data.loc[i,\"v3_integrityImpact\"] == \"LOW\":\n",
    "        cvss_data.loc[i,\"v3_integrityImpact\"] = 0.22\n",
    "    elif cvss_data.loc[i,\"v3_integrityImpact\"] == \"HIGH\":\n",
    "        cvss_data.loc[i,\"v3_integrityImpact\"] = 0.56\n",
    "        \n",
    "for i in index:\n",
    "    if cvss_data.loc[i,\"v3_availabilityImpact\"] == \"NONE\":\n",
    "        cvss_data.loc[i,\"v3_availabilityImpact\"] = 0\n",
    "    elif cvss_data.loc[i,\"v3_availabilityImpact\"] == \"LOW\":\n",
    "        cvss_data.loc[i,\"v3_availabilityImpact\"] = 0.22\n",
    "    elif cvss_data.loc[i,\"v3_availabilityImpact\"] == \"HIGH\":\n",
    "        cvss_data.loc[i,\"v3_availabilityImpact\"] = 0.56\n"
   ]
  },
  {
   "cell_type": "code",
   "execution_count": 7,
   "metadata": {},
   "outputs": [],
   "source": [
    "#ISS =  1 - [ (1 - Confidentiality) × (1 - Integrity) × (1 - Availability) ]\n",
    "cvss_data[\"iss\"] = 1- ((1-cvss_data.v3_confidentialityImpact)*(1-cvss_data.v3_integrityImpact)*(1-cvss_data.v3_availabilityImpact))\n",
    "\n",
    "# IMPACT\n",
    "for i in index:\n",
    "    if cvss_data.loc[i,\"v3_scope\"] ==  \"UNCHANGED\":\n",
    "        cvss_data.loc[i, \"v3_impactScore\"] = 6.42 * cvss_data.loc[i,\"iss\"]\n",
    "    elif cvss_data.loc[i,\"v3_scope\"] ==  \"CHANGED\":\n",
    "        cvss_data.loc[i, \"v3_impactScore\"] = 7.52 * (cvss_data.loc[i,\"iss\"] -0.029) - 3.25*(cvss_data.loc[i,\"iss\"]-0.02)**15 \n",
    "\n",
    "# EXPOLITABILITY\n",
    "cvss_data[\"v3_exploitabilityScore\"] = 8.22*cvss_data[\"v3_attackVector\"]*cvss_data[\"v3_attackComplexity\"]*cvss_data[\"v3_privilegesRequired\"]*cvss_data[\"v3_userInteraction\"]\n",
    "\n",
    "#ROUNDUP\n",
    "def round_up(value):\n",
    "    int_value = round(value * 100000)\n",
    "    if (int_value % 10000) == 0:\n",
    "        return int_value/100000.0\n",
    "    else:\n",
    "        return (math.floor(int_value/10000)+1)/10.0\n",
    "\n",
    "    \n",
    "cvss_data.head()\n",
    "#BASE SCORE\n",
    "for i in index:\n",
    "    if cvss_data.loc[i, \"v3_impactScore\"] <=0:\n",
    "        cvss_data.loc[i, \"v3_baseScore\"] = 0\n",
    "    elif cvss_data.loc[i, \"v3_impactScore\"]>= 0:\n",
    "        if cvss_data.loc[i, \"v3_scope\"] == \"UNCHANGED\":\n",
    "            cvss_data.loc[i, \"v3_baseScore\"] = round_up(min([(cvss_data.loc[i, \"v3_impactScore\"] + cvss_data.loc[i, \"v3_exploitabilityScore\"]),10]))\n",
    "        elif cvss_data.loc[i, \"v3_scope\"] == \"CHANGED\":\n",
    "            cvss_data.loc[i, \"v3_baseScore\"] = round_up(min([1.08*(cvss_data.loc[i, \"v3_impactScore\"]+ cvss_data.loc[i, \"v3_exploitabilityScore\"]) ,10]))\n",
    "            \n",
    "            \n",
    "#base_severity\n",
    "for i in index:\n",
    "    if cvss_data.loc[i, \"v3_baseScore\"] == 0.0:\n",
    "        cvss_data.loc[i, \"v3_baseSeverity\"] = \"NONE\"\n",
    "    elif cvss_data.loc[i, \"v3_baseScore\"] >= 0.1 and cvss_data.loc[i, \"v3_baseScore\"] <= 3.9:\n",
    "        cvss_data.loc[i, \"v3_baseSeverity\"] = \"LOW\"\n",
    "    elif cvss_data.loc[i, \"v3_baseScore\"] >=4.0 and cvss_data.loc[i, \"v3_baseScore\"] <= 6.9:\n",
    "        cvss_data.loc[i, \"v3_baseSeverity\"] = \"MEDIUM\"\n",
    "    elif cvss_data.loc[i, \"v3_baseScore\"] >= 7.0 and cvss_data.loc[i, \"v3_baseScore\"] <= 8.9:\n",
    "        cvss_data.loc[i, \"v3_baseSeverity\"] = \"HIGH\"\n",
    "    elif cvss_data.loc[i, \"v3_baseScore\"] >= 9.0 and cvss_data.loc[i, \"v3_baseScore\"] <= 10.0:\n",
    "        cvss_data.loc[i, \"v3_baseSeverity\"] = \"CRITICAL\"          \n"
   ]
  },
  {
   "cell_type": "raw",
   "metadata": {},
   "source": [
    "# YOUR WRITTEN ANSWER HERE\n",
    "\n",
    "I found out that the equation provided for calculating Base Score required 3 unknown variables,'exploitabilityScore','impactScore'and 'baseSeverity'. Therefore, I first figure out the calculations for the 3 unknown variables.\n",
    "\n",
    "To calculate the exploitability score, we need the values of 'attackVector', 'attackComplexity','privilegesRequired', 'userInteraction' and also'scope'. I converted the metric values to their respective numerical values. Then based on the equation :\n",
    "exploitability=8.22 × AttackVector×AttackComplexity×PrivilegesRequired×UserInteraction\n",
    "I managed to get the exploitability column.\n",
    "\n",
    "Before getting the Impact Score, the ISS values are needed. Thus, I first by going on calculating the ISS values. I converted the metric values for 'confidentialityImpact','integrityImpact' and 'availabilityImpact' into their numerical values. \n",
    "Then, to calculate the ISS values, I used the equation provided : \n",
    "ISS = 1 - [ (1 - Confidentiality) × (1 - Integrity) × (1 - Availability) ]\n",
    "\n",
    "To calculate the impact scores, we need the confidentialityImpact, integrityImpact and the availabilityImpact. As the numerical values of the 3 different impacts are prepared when calculating the ISS values, there is no need for converting in calculating Impact Score.\n",
    "Then base on the equation:\n",
    "Impact Score = 'If Scope is Unchanged: 6.42 × ISS else If Scope is Changed: 7.52 × (ISS - 0.029) - 3.25 × (ISS - 0.02)**15'\n",
    "I managed to get the values of Impact Score.\n",
    "\n",
    "Even though I got the 3 unknown variables, it is still neccessary for me to have a function 'round_up'. This helper function is essential to the calculation of base score. Therefore, I wrote the helper function base on the codes provided in the website. \n",
    "\n",
    "Finally, I implement the equation given in the link:\n",
    "base score = If Impact \\<= 0 then 0, \n",
    "else:\n",
    "If Scope is Unchanged: Roundup (Minimum [(Impact + Exploitability), 10])\n",
    "If Scope is Changed: Roundup (Minimum [1.08 × (Impact + Exploitability), 10])\n",
    "Thus, I got the values of base scores.\n",
    "\n",
    "After having the base scores, I can then move on to categorize the numeric values into their respective ratings. According to the Qualitative Severtity Rating Scale. The severity can be categorized into NONE,LOW,MEDIUM,HIGH and CRITICAL. \n",
    "\n"
   ]
  },
  {
   "cell_type": "markdown",
   "metadata": {},
   "source": [
    "******\n",
    "## Q3: Data Exploration\n",
    "In this question you are asked to explore the given data and present information in a suitable manner. You are required to present the information both visually (using plots) and using descriptive statistics. "
   ]
  },
  {
   "cell_type": "markdown",
   "metadata": {},
   "source": [
    "#### (Q3.a)\n",
    "There is an unverified claim made that most of the CVEs reported in 2020 were of MEDIUM Severity.  How would you check that claim and present the conclusion? Please explain your approach and implement it in code.\n",
    "<span style= 'float: right;'><b>[5 marks]</b></span>"
   ]
  },
  {
   "cell_type": "code",
   "execution_count": 8,
   "metadata": {},
   "outputs": [
    {
     "data": {
      "text/plain": [
       "<matplotlib.legend.Legend at 0x7fe6ee70ce50>"
      ]
     },
     "execution_count": 8,
     "metadata": {},
     "output_type": "execute_result"
    },
    {
     "data": {
      "image/png": "[encoded data removed]",
      "text/plain": [
       "<Figure size 720x720 with 1 Axes>"
      ]
     },
     "metadata": {},
     "output_type": "display_data"
    }
   ],
   "source": [
    "# YOUR CODE HERE\n",
    "num_of_medium = 0\n",
    "num_of_high = 0\n",
    "num_of_low = 0\n",
    "num_of_critical = 0\n",
    "num_of_none = 0\n",
    "\n",
    "#calculate the numbers of each rating for serverity\n",
    "for i in index:\n",
    "    if cvss_data.loc[i,\"v3_baseSeverity\"] ==  \"NONE\":\n",
    "        num_of_none += 1        \n",
    "    elif cvss_data.loc[i,\"v3_baseSeverity\"] ==  \"LOW\":\n",
    "        num_of_low += 1\n",
    "    elif cvss_data.loc[i,\"v3_baseSeverity\"] ==  \"MEDIUM\":\n",
    "        num_of_medium += 1\n",
    "    elif cvss_data.loc[i,\"v3_baseSeverity\"] ==  \"HIGH\":\n",
    "        num_of_high += 1\n",
    "    elif cvss_data.loc[i,\"v3_baseSeverity\"] ==  \"CRITICAL\":\n",
    "        num_of_critical += 1\n",
    "\n",
    "#get the percentage distribution for each rating for severity\n",
    "total = len(cvss_data.v3_baseSeverity)\n",
    "num_of_medium = (num_of_medium/total)*100\n",
    "num_of_high = (num_of_high/total)*100\n",
    "num_of_low = (num_of_low/total)*100\n",
    "num_of_critical = (num_of_critical/total)*100\n",
    "num_of_none = (num_of_none/total)*100\n",
    "\n",
    "#show the percentages of each rating for severity in a pie chart\n",
    "plt.figure(figsize=(10,10))\n",
    "percentage = np.array([num_of_none,num_of_low, num_of_medium,num_of_high,num_of_critical])\n",
    "category=['None', 'Low', 'Medium', 'High','Critical']\n",
    "plt.pie(percentage, labels = category,autopct='%.2f')\n",
    "plt.legend()\n",
    "\n",
    "# (ADD ANY ADDITIONAL CELLS AS REQUIRED)"
   ]
  },
  {
   "cell_type": "code",
   "execution_count": 9,
   "metadata": {},
   "outputs": [
    {
     "data": {
      "text/plain": [
       "count       9210\n",
       "unique         4\n",
       "top       MEDIUM\n",
       "freq        3960\n",
       "Name: v3_baseSeverity, dtype: object"
      ]
     },
     "execution_count": 9,
     "metadata": {},
     "output_type": "execute_result"
    }
   ],
   "source": [
    "cvss_data[\"v3_baseSeverity\"].describe()"
   ]
  },
  {
   "cell_type": "code",
   "execution_count": 10,
   "metadata": {},
   "outputs": [
    {
     "data": {
      "text/plain": [
       "Counter({'HIGH': 3470, 'MEDIUM': 3960, 'CRITICAL': 1632, 'LOW': 148})"
      ]
     },
     "execution_count": 10,
     "metadata": {},
     "output_type": "execute_result"
    }
   ],
   "source": [
    "Counter(cvss_data['v3_baseSeverity'])"
   ]
  },
  {
   "cell_type": "raw",
   "metadata": {},
   "source": [
    "# YOUR WRITTEN ANSWER HERE\n",
    "From the pie chart shown above, it can be verified that the cve_id of 2020's medium sereverity is the most.\n",
    "There is 0% 'None' rating for severity. The most severity rating is 'Medium' with a 43% and followed by 'High' rating of severity with a 37.63%.\n",
    "Also, the values generated from using Counter can also show that medium is the most."
   ]
  },
  {
   "cell_type": "markdown",
   "metadata": {},
   "source": [
    "#### (Q3.b)\n",
    "What are the top 5 CWEs that are mentioned in the data? Why did you present this information in the way you chose?\n",
    "<span style= 'float: right;'><b>[5 marks]</b></span>"
   ]
  },
  {
   "cell_type": "code",
   "execution_count": 11,
   "metadata": {},
   "outputs": [
    {
     "data": {
      "text/html": [
       "<div>\n",
       "<style scoped>\n",
       "    .dataframe tbody tr th:only-of-type {\n",
       "        vertical-align: middle;\n",
       "    }\n",
       "\n",
       "    .dataframe tbody tr th {\n",
       "        vertical-align: top;\n",
       "    }\n",
       "\n",
       "    .dataframe thead th {\n",
       "        text-align: right;\n",
       "    }\n",
       "</style>\n",
       "<table border=\"1\" class=\"dataframe\">\n",
       "  <thead>\n",
       "    <tr style=\"text-align: right;\">\n",
       "      <th></th>\n",
       "      <th>cwe_id</th>\n",
       "      <th>id_occurrence</th>\n",
       "    </tr>\n",
       "  </thead>\n",
       "  <tbody>\n",
       "    <tr>\n",
       "      <th>0</th>\n",
       "      <td>CWE-79</td>\n",
       "      <td>2181</td>\n",
       "    </tr>\n",
       "    <tr>\n",
       "      <th>1</th>\n",
       "      <td>CWE-787</td>\n",
       "      <td>1316</td>\n",
       "    </tr>\n",
       "    <tr>\n",
       "      <th>2</th>\n",
       "      <td>CWE-125</td>\n",
       "      <td>705</td>\n",
       "    </tr>\n",
       "    <tr>\n",
       "      <th>3</th>\n",
       "      <td>CWE-89</td>\n",
       "      <td>574</td>\n",
       "    </tr>\n",
       "    <tr>\n",
       "      <th>4</th>\n",
       "      <td>CWE-78</td>\n",
       "      <td>438</td>\n",
       "    </tr>\n",
       "  </tbody>\n",
       "</table>\n",
       "</div>"
      ],
      "text/plain": [
       "    cwe_id  id_occurrence\n",
       "0   CWE-79           2181\n",
       "1  CWE-787           1316\n",
       "2  CWE-125            705\n",
       "3   CWE-89            574\n",
       "4   CWE-78            438"
      ]
     },
     "execution_count": 11,
     "metadata": {},
     "output_type": "execute_result"
    }
   ],
   "source": [
    "# YOUR CODE HERE\n",
    "\n",
    "#get the number of cwe_ids in total\n",
    "total_cwe = list(cvss_data['cwe_id'])\n",
    "total_cwe = [i.split(',', 1)[0] for i in total_cwe]\n",
    "\n",
    "#count the number of each cwe id and select top 5\n",
    "total_cwe = Counter(total_cwe).most_common(5)\n",
    "total_cwe = pd.DataFrame(total_cwe)\n",
    "total_cwe.columns = ['cwe_id', 'id_occurrence']\n",
    "total_cwe\n",
    "# (ADD ANY ADDITIONAL CELLS AS REQUIRED)"
   ]
  },
  {
   "cell_type": "raw",
   "metadata": {},
   "source": [
    "# YOUR WRITTEN ANSWER HERE\n",
    "I think presenting in a dataframe makes the data easier for visualizing."
   ]
  },
  {
   "cell_type": "markdown",
   "metadata": {},
   "source": [
    "#### (Q3.c)\n",
    "Google products are commonly used.  Your team wants to know how cyber-threats are affecting google users.  Find all the CVEs associated with the Vendor google and present the distribution of CVSS Base Scores for google in a suitable manner.  Please also explain your steps.\n",
    "<span style= 'float: right;'><b>[5 marks]</b></span>"
   ]
  },
  {
   "cell_type": "code",
   "execution_count": 12,
   "metadata": {},
   "outputs": [
    {
     "data": {
      "text/html": [
       "<div>\n",
       "<style scoped>\n",
       "    .dataframe tbody tr th:only-of-type {\n",
       "        vertical-align: middle;\n",
       "    }\n",
       "\n",
       "    .dataframe tbody tr th {\n",
       "        vertical-align: top;\n",
       "    }\n",
       "\n",
       "    .dataframe thead th {\n",
       "        text-align: right;\n",
       "    }\n",
       "</style>\n",
       "<table border=\"1\" class=\"dataframe\">\n",
       "  <thead>\n",
       "    <tr style=\"text-align: right;\">\n",
       "      <th></th>\n",
       "      <th>cve_id</th>\n",
       "      <th>vendor</th>\n",
       "      <th>product</th>\n",
       "      <th>version</th>\n",
       "      <th>cwe_id</th>\n",
       "      <th>v3_attackVector</th>\n",
       "      <th>v3_attackComplexity</th>\n",
       "      <th>v3_privilegesRequired</th>\n",
       "      <th>v3_userInteraction</th>\n",
       "      <th>v3_scope</th>\n",
       "      <th>v3_confidentialityImpact</th>\n",
       "      <th>v3_integrityImpact</th>\n",
       "      <th>v3_availabilityImpact</th>\n",
       "      <th>v3_exploitabilityScore</th>\n",
       "      <th>v3_impactScore</th>\n",
       "      <th>v3_baseScore</th>\n",
       "      <th>v3_baseSeverity</th>\n",
       "      <th>iss</th>\n",
       "    </tr>\n",
       "  </thead>\n",
       "  <tbody>\n",
       "    <tr>\n",
       "      <th>0</th>\n",
       "      <td>CVE-2020-0002</td>\n",
       "      <td>google</td>\n",
       "      <td>android</td>\n",
       "      <td>8.0,8.1,9.0,10.0</td>\n",
       "      <td>CWE-787,CWE-416</td>\n",
       "      <td>0.85</td>\n",
       "      <td>0.77</td>\n",
       "      <td>0.85</td>\n",
       "      <td>0.62</td>\n",
       "      <td>UNCHANGED</td>\n",
       "      <td>0.56</td>\n",
       "      <td>0.56</td>\n",
       "      <td>0.56</td>\n",
       "      <td>2.835255</td>\n",
       "      <td>5.873119</td>\n",
       "      <td>8.8</td>\n",
       "      <td>HIGH</td>\n",
       "      <td>0.914816</td>\n",
       "    </tr>\n",
       "    <tr>\n",
       "      <th>1</th>\n",
       "      <td>CVE-2020-0003</td>\n",
       "      <td>google</td>\n",
       "      <td>android</td>\n",
       "      <td>8.0</td>\n",
       "      <td>CWE-367</td>\n",
       "      <td>0.55</td>\n",
       "      <td>0.44</td>\n",
       "      <td>0.62</td>\n",
       "      <td>0.62</td>\n",
       "      <td>UNCHANGED</td>\n",
       "      <td>0.56</td>\n",
       "      <td>0.56</td>\n",
       "      <td>0.56</td>\n",
       "      <td>0.764664</td>\n",
       "      <td>5.873119</td>\n",
       "      <td>6.7</td>\n",
       "      <td>MEDIUM</td>\n",
       "      <td>0.914816</td>\n",
       "    </tr>\n",
       "    <tr>\n",
       "      <th>2</th>\n",
       "      <td>CVE-2020-0005</td>\n",
       "      <td>google</td>\n",
       "      <td>android</td>\n",
       "      <td>8.0,8.1,9.0,10.0</td>\n",
       "      <td>CWE-787</td>\n",
       "      <td>0.55</td>\n",
       "      <td>0.77</td>\n",
       "      <td>0.27</td>\n",
       "      <td>0.85</td>\n",
       "      <td>UNCHANGED</td>\n",
       "      <td>0.56</td>\n",
       "      <td>0.56</td>\n",
       "      <td>0.56</td>\n",
       "      <td>0.798929</td>\n",
       "      <td>5.873119</td>\n",
       "      <td>6.7</td>\n",
       "      <td>MEDIUM</td>\n",
       "      <td>0.914816</td>\n",
       "    </tr>\n",
       "  </tbody>\n",
       "</table>\n",
       "</div>"
      ],
      "text/plain": [
       "          cve_id  vendor  product           version           cwe_id  \\\n",
       "0  CVE-2020-0002  google  android  8.0,8.1,9.0,10.0  CWE-787,CWE-416   \n",
       "1  CVE-2020-0003  google  android               8.0          CWE-367   \n",
       "2  CVE-2020-0005  google  android  8.0,8.1,9.0,10.0          CWE-787   \n",
       "\n",
       "  v3_attackVector v3_attackComplexity v3_privilegesRequired  \\\n",
       "0            0.85                0.77                  0.85   \n",
       "1            0.55                0.44                  0.62   \n",
       "2            0.55                0.77                  0.27   \n",
       "\n",
       "  v3_userInteraction   v3_scope v3_confidentialityImpact v3_integrityImpact  \\\n",
       "0               0.62  UNCHANGED                     0.56               0.56   \n",
       "1               0.62  UNCHANGED                     0.56               0.56   \n",
       "2               0.85  UNCHANGED                     0.56               0.56   \n",
       "\n",
       "  v3_availabilityImpact v3_exploitabilityScore  v3_impactScore  v3_baseScore  \\\n",
       "0                  0.56               2.835255        5.873119           8.8   \n",
       "1                  0.56               0.764664        5.873119           6.7   \n",
       "2                  0.56               0.798929        5.873119           6.7   \n",
       "\n",
       "  v3_baseSeverity       iss  \n",
       "0            HIGH  0.914816  \n",
       "1          MEDIUM  0.914816  \n",
       "2          MEDIUM  0.914816  "
      ]
     },
     "execution_count": 12,
     "metadata": {},
     "output_type": "execute_result"
    }
   ],
   "source": [
    "# YOUR CODE HERE\n",
    "\n",
    "#CALCULATIONS and MANIPULATIONS of data\n",
    "# filter out cve ids with vendor google\n",
    "id_google = cve_data.query('vendor == \"google\"')\n",
    "#join google vendors with cvss_data using cve_id\n",
    "google_baseScore = pd.merge(id_google,cvss_data, on='cve_id',how='right')\n",
    "#remove all nan values in vendor\n",
    "google_baseScore = google_baseScore.dropna(subset=['vendor'])\n",
    "\n",
    "\n",
    "google_baseScore.head(3)\n",
    "\n",
    "# (ADD ANY ADDITIONAL CELLS AS REQUIRED)"
   ]
  },
  {
   "cell_type": "code",
   "execution_count": 13,
   "metadata": {},
   "outputs": [
    {
     "data": {
      "text/plain": [
       "v3_baseScore    AxesSubplot(0.125,0.125;0.775x0.755)\n",
       "dtype: object"
      ]
     },
     "execution_count": 13,
     "metadata": {},
     "output_type": "execute_result"
    },
    {
     "data": {
      "image/png": "[encoded data removed]",
      "text/plain": [
       "<Figure size 576x576 with 1 Axes>"
      ]
     },
     "metadata": {
      "needs_background": "light"
     },
     "output_type": "display_data"
    }
   ],
   "source": [
    "#DISPLAY DATA\n",
    "#draw the diagram of distribution of CVSS Base scores for google\n",
    "google_baseScore['v3_baseScore'].plot(kind='box', subplots=True, title='Google Base Score Distribution',figsize= (8,8))\n"
   ]
  },
  {
   "cell_type": "code",
   "execution_count": 14,
   "metadata": {},
   "outputs": [
    {
     "data": {
      "text/plain": [
       "count    573.000000\n",
       "mean       7.268237\n",
       "std        1.666778\n",
       "min        3.300000\n",
       "25%        6.300000\n",
       "50%        7.500000\n",
       "75%        8.800000\n",
       "max        9.900000\n",
       "Name: v3_baseScore, dtype: float64"
      ]
     },
     "execution_count": 14,
     "metadata": {},
     "output_type": "execute_result"
    }
   ],
   "source": [
    "google_baseScore['v3_baseScore'].describe()"
   ]
  },
  {
   "cell_type": "raw",
   "metadata": {},
   "source": [
    "# YOUR WRITTEN ANSWER HERE\n",
    "As I am finding the base score of vendor google, so its essential for me to combine the cvss and cve data tables.\n",
    "However, before I started combining those tables, I need to filter out 'google' in 'vendor' column of cve table.\n",
    "Therefore, to filter 'google' I used 'query'.If the 'vendor' equals to 'google', the data in the row will be copy into a new dataframe-'id_google'.\n",
    "With this 'id_google' I can then move on to combining the tables and abstract the base score for google.\n",
    "I used the right join to do the combining of tables and also abstract the base scores by using column 'cve_id'.\n",
    "Those non-google vendors will appear as 'nan', so I remove all 'nan' vendors and only left with rows containing 'google'.\n",
    "Now, I have base score and vendor-'google' in a dataframe-'google_baseScore'. I can now draw the diagram.\n",
    "\n",
    "I chose to present the distribution of google's base score in box plot. Box plot indicates clearly on the different percentiles and the mean, maximum, minimum base scores for google."
   ]
  },
  {
   "cell_type": "markdown",
   "metadata": {},
   "source": [
    "#### (Q3.d)\n",
    "Find the top 5 vendors that are most affected (i.e. that has most number of rows in the configurations table) and present the distribution of CVSS Base scores for these top 5 vendors using a suitable visualization.  Please also explain your steps.\n",
    "<span style= 'float: right;'><b>[10 marks]</b></span>"
   ]
  },
  {
   "cell_type": "code",
   "execution_count": 15,
   "metadata": {},
   "outputs": [
    {
     "data": {
      "text/plain": [
       "qualcomm    32904\n",
       "intel        1517\n",
       "netgear      1069\n",
       "apple         855\n",
       "oracle        784\n",
       "Name: vendor, dtype: int64"
      ]
     },
     "execution_count": 15,
     "metadata": {},
     "output_type": "execute_result"
    }
   ],
   "source": [
    "# YOUR CODE HERE\n",
    "#top 5 vendors that are most affected\n",
    "cve_data.vendor.value_counts().head(5)\n",
    "# (ADD ANY ADDITIONAL CELLS AS REQUIRED)"
   ]
  },
  {
   "cell_type": "code",
   "execution_count": 16,
   "metadata": {},
   "outputs": [],
   "source": [
    "#Manipulate and filter data\n",
    "#abstract the top 5 vendors from cve_confi table\n",
    "id_vendors = cve_data.query('vendor == \"qualcomm\" or vendor == \"intel\" or vendor == \"netgear\" or vendor == \"apple\" or vendor == \"oracle\"')\n",
    "# join the 5 vendors with cvss table using cve_ids\n",
    "vendors_baseScore = pd.merge(id_vendors,cvss_data, on='cve_id',how='right')      \n",
    "vendors_baseScore = vendors_baseScore.dropna(subset=['vendor'])\n"
   ]
  },
  {
   "cell_type": "code",
   "execution_count": 17,
   "metadata": {
    "tags": []
   },
   "outputs": [
    {
     "data": {
      "image/png": "[encoded data removed]",
      "text/plain": [
       "<Figure size 432x288 with 1 Axes>"
      ]
     },
     "metadata": {
      "needs_background": "light"
     },
     "output_type": "display_data"
    }
   ],
   "source": [
    "#DISPLAY DATA\n",
    "ax = sns.boxplot(x=\"v3_baseScore\", y=\"vendor\", data= vendors_baseScore)\n"
   ]
  },
  {
   "cell_type": "raw",
   "metadata": {},
   "source": [
    "# YOUR WRITTEN ANSWER HERE\n",
    "First, I find the vendors that are affected using 'value_counts()'. To get the top 5 most affected vendors, I used 'head(5)'\n",
    "The results are first 'qualcomm',next 'intel', followed by 'netgear', then 'apple', finally 'oracle'.\n",
    "\n",
    "There are many ways to present the distribution of CVSS base score. I can either use a clustered bar chart or many subplots bar charts with each of the subplot being one vendor or a clustered box plot.\n",
    "In the end, I chose to present them in a box chart with each colour representing one vendor.\n",
    "\n"
   ]
  },
  {
   "cell_type": "markdown",
   "metadata": {
    "tags": []
   },
   "source": [
    "******\n",
    "## Q4: Identifying Data Analysis Problems\n",
    "### CVEs and real world issues\n",
    "\n",
    "We mentioned that dataset is from 2020 and we have only given you the records that relate to the Software Development viewpoint. Do you remember any major software vulnerabilities that came to light in 2020? [This article](https://securityintelligence.com/posts/top-10-cybersecurity-vulnerabilities-2020/) claims that the top 2 vulnerabilities that were found in 2020 are;\n",
    "- CVE-2020-8515: Draytek Vigor Command Injection\n",
    "- CVE-2020-5722: HTTP: Grandstream UCM6200 SQL Injection\n",
    "\n",
    "However, there may be various viewpoints. For e.g.: [this article](https://blog.detectify.com/2020/12/30/top-10-critical-cves-added-in-2020/) mentions another 10 CVE's. \n",
    "\n",
    "Your task is as follows:\n",
    "#### (Q4.a)\n",
    "- Find and present the vulnerabilities that are mentioned in the above two articles in the given dataset in a tabular format. You may not find all the 12 CVE's. What are possible reasons for this? (5 marks)\n",
    "- Examine the properties of the CVEs that you found above. (At a minimum you should consider the data available in the './data/cvss_dataset.csv' file). Present a justification as to why some of the given CVEs may have been considered a _\"large\"_ bug? This should include references to the amount of damage a vulnerability caused, or could have potentially caused. (5 marks)\n",
    "\n",
    "<span style= 'float: right;'><b>[10 marks]</b></span>\n",
    "\n",
    "<br><br>\n",
    "**Additional question for COMP6420 students: [worth extra 10 marks]**\n",
    "#### (Q4.b)\n",
    "- If you were given the task of identifying the top-10 most critical CVEs in the given data, how would you tackle the problem? Give a brief list of initial analysis you would perform. (7 marks)\n",
    "\n",
    "- How would you go about implemention your proposed approach? (3 marks)\n",
    "\n",
    "References are highly recommended for this question (both parts a and b) so that you can evidence your argument. **DO NOT** forget to list your references, including in your statement of originality document.  **Please note that failure to reference or improper referencing constitute a case for plagiarism which can have serious consequences for you.  So make sure you use references appropriately.  Please familiarise yourself with the university's [academic integrity rules here](https://www.anu.edu.au/students/academic-skills/academic-integrity) if you have not done so already**."
   ]
  },
  {
   "cell_type": "code",
   "execution_count": 18,
   "metadata": {},
   "outputs": [
    {
     "data": {
      "text/html": [
       "<div>\n",
       "<style scoped>\n",
       "    .dataframe tbody tr th:only-of-type {\n",
       "        vertical-align: middle;\n",
       "    }\n",
       "\n",
       "    .dataframe tbody tr th {\n",
       "        vertical-align: top;\n",
       "    }\n",
       "\n",
       "    .dataframe thead th {\n",
       "        text-align: right;\n",
       "    }\n",
       "</style>\n",
       "<table border=\"1\" class=\"dataframe\">\n",
       "  <thead>\n",
       "    <tr style=\"text-align: right;\">\n",
       "      <th></th>\n",
       "      <th>cve_id</th>\n",
       "      <th>cwe_id</th>\n",
       "      <th>v3_attackVector</th>\n",
       "      <th>v3_attackComplexity</th>\n",
       "      <th>v3_privilegesRequired</th>\n",
       "      <th>v3_userInteraction</th>\n",
       "      <th>v3_scope</th>\n",
       "      <th>v3_confidentialityImpact</th>\n",
       "      <th>v3_integrityImpact</th>\n",
       "      <th>v3_availabilityImpact</th>\n",
       "      <th>v3_exploitabilityScore</th>\n",
       "      <th>v3_impactScore</th>\n",
       "      <th>v3_baseScore</th>\n",
       "      <th>v3_baseSeverity</th>\n",
       "      <th>iss</th>\n",
       "    </tr>\n",
       "  </thead>\n",
       "  <tbody>\n",
       "    <tr>\n",
       "      <th>1595</th>\n",
       "      <td>CVE-2020-12720</td>\n",
       "      <td>CWE-89,CWE-306</td>\n",
       "      <td>0.85</td>\n",
       "      <td>0.77</td>\n",
       "      <td>0.85</td>\n",
       "      <td>0.85</td>\n",
       "      <td>UNCHANGED</td>\n",
       "      <td>0.56</td>\n",
       "      <td>0.56</td>\n",
       "      <td>0.56</td>\n",
       "      <td>3.887043</td>\n",
       "      <td>5.873119</td>\n",
       "      <td>9.8</td>\n",
       "      <td>CRITICAL</td>\n",
       "      <td>0.914816</td>\n",
       "    </tr>\n",
       "    <tr>\n",
       "      <th>7331</th>\n",
       "      <td>CVE-2020-5722</td>\n",
       "      <td>CWE-89</td>\n",
       "      <td>0.85</td>\n",
       "      <td>0.77</td>\n",
       "      <td>0.85</td>\n",
       "      <td>0.85</td>\n",
       "      <td>UNCHANGED</td>\n",
       "      <td>0.56</td>\n",
       "      <td>0.56</td>\n",
       "      <td>0.56</td>\n",
       "      <td>3.887043</td>\n",
       "      <td>5.873119</td>\n",
       "      <td>9.8</td>\n",
       "      <td>CRITICAL</td>\n",
       "      <td>0.914816</td>\n",
       "    </tr>\n",
       "    <tr>\n",
       "      <th>7419</th>\n",
       "      <td>CVE-2020-5902</td>\n",
       "      <td>CWE-22,CWE-829</td>\n",
       "      <td>0.85</td>\n",
       "      <td>0.77</td>\n",
       "      <td>0.85</td>\n",
       "      <td>0.85</td>\n",
       "      <td>UNCHANGED</td>\n",
       "      <td>0.56</td>\n",
       "      <td>0.56</td>\n",
       "      <td>0.56</td>\n",
       "      <td>3.887043</td>\n",
       "      <td>5.873119</td>\n",
       "      <td>9.8</td>\n",
       "      <td>CRITICAL</td>\n",
       "      <td>0.914816</td>\n",
       "    </tr>\n",
       "    <tr>\n",
       "      <th>8525</th>\n",
       "      <td>CVE-2020-8515</td>\n",
       "      <td>CWE-78</td>\n",
       "      <td>0.85</td>\n",
       "      <td>0.77</td>\n",
       "      <td>0.85</td>\n",
       "      <td>0.85</td>\n",
       "      <td>UNCHANGED</td>\n",
       "      <td>0.56</td>\n",
       "      <td>0.56</td>\n",
       "      <td>0.56</td>\n",
       "      <td>3.887043</td>\n",
       "      <td>5.873119</td>\n",
       "      <td>9.8</td>\n",
       "      <td>CRITICAL</td>\n",
       "      <td>0.914816</td>\n",
       "    </tr>\n",
       "  </tbody>\n",
       "</table>\n",
       "</div>"
      ],
      "text/plain": [
       "              cve_id          cwe_id  v3_attackVector  v3_attackComplexity  \\\n",
       "1595  CVE-2020-12720  CWE-89,CWE-306             0.85                 0.77   \n",
       "7331   CVE-2020-5722          CWE-89             0.85                 0.77   \n",
       "7419   CVE-2020-5902  CWE-22,CWE-829             0.85                 0.77   \n",
       "8525   CVE-2020-8515          CWE-78             0.85                 0.77   \n",
       "\n",
       "      v3_privilegesRequired  v3_userInteraction   v3_scope  \\\n",
       "1595                   0.85                0.85  UNCHANGED   \n",
       "7331                   0.85                0.85  UNCHANGED   \n",
       "7419                   0.85                0.85  UNCHANGED   \n",
       "8525                   0.85                0.85  UNCHANGED   \n",
       "\n",
       "      v3_confidentialityImpact  v3_integrityImpact  v3_availabilityImpact  \\\n",
       "1595                      0.56                0.56                   0.56   \n",
       "7331                      0.56                0.56                   0.56   \n",
       "7419                      0.56                0.56                   0.56   \n",
       "8525                      0.56                0.56                   0.56   \n",
       "\n",
       "      v3_exploitabilityScore  v3_impactScore  v3_baseScore v3_baseSeverity  \\\n",
       "1595                3.887043        5.873119           9.8        CRITICAL   \n",
       "7331                3.887043        5.873119           9.8        CRITICAL   \n",
       "7419                3.887043        5.873119           9.8        CRITICAL   \n",
       "8525                3.887043        5.873119           9.8        CRITICAL   \n",
       "\n",
       "           iss  \n",
       "1595  0.914816  \n",
       "7331  0.914816  \n",
       "7419  0.914816  \n",
       "8525  0.914816  "
      ]
     },
     "execution_count": 18,
     "metadata": {},
     "output_type": "execute_result"
    }
   ],
   "source": [
    "# YOUR CODE HERE\n",
    "#ABSTRACT IDs\n",
    "#set range\n",
    "index = cvss_data.index\n",
    "#all cve ids on 2 articles\n",
    "lst_id = ['CVE-2020-12720','CVE-2020-5902','CVE-2020-15506','CVE-2020-14882','CVE-2020-14750'\n",
    "         ,'CVE-2020-175530', 'CVE-2020-2551','CVE-2020-13379','CVE-2020-1147','CVE-2020-8209'\n",
    "         ,'CVE-2020-8515','CVE-2020-5722']\n",
    "\n",
    "#initialize a list for data\n",
    "q4a= []\n",
    "#abstract all data for the 12 cve ids if exists\n",
    "for i in index:\n",
    "    for j in range(len(lst_id)):\n",
    "        if cvss_data.loc[i,'cve_id'] == lst_id[j]:\n",
    "            q4a.append(cvss_data.loc[i])\n",
    "#convert to tabular format\n",
    "q4a= pd.DataFrame(q4a)\n",
    "#present all cve ids found\n",
    "q4a\n"
   ]
  },
  {
   "cell_type": "raw",
   "metadata": {},
   "source": [
    "# YOUR WRITTEN ANSWER HERE\n",
    "The possible reason for not all 12 CVEs present is that while over 1000 CWE identifiers exist not all are present due to following NVD. Thus, some CVEs may not be present under the subset of NVD. Another reason can be only the records that relate to the Software Development viewpoint is given to us. Hence, we have filtered the 2020 CVSS data which are related only to Software Development viewpoint. This results in limitations in not covering all CVEs.\n",
    "\n",
    "The CVEs may consider as a large bug because they have a high base score of 9.8 which lead to them having their base severity being critical.\n",
    "For CVE-2020-12720, according to NVD 'https://nvd.nist.gov/vuln/detail/CVE-2020-12720' this is currently modified and will be having a reanalysiz in the future, this suggests that it has some potential undiscovered damage and it will cause more damage in the future.\n",
    "For CVE-2020-5722, according to 'https://nvd.nist.gov/vuln/detail/CVE-2020-5722', this allows the attacker to execute shell commands as root or inject HTML in password recovery emails. These actions not only dangerous but also will lead to a loss in all information and data. Thus, this CVE is being considered as a large bug.\n",
    "For CVE-2020-5902, according to NVD, this CVE has also been classified as modified CVE. Its waiting for further research and reanalysiz in the future. The Configuration utility, has a Remote Code Execution (RCE) vulnerability in undisclosed pages which is dangerous in leaking of important internal websites or other valuable data. Furthermore, since this is not being solved completely and with a base score of 9.8, thus it is a large bug.\n",
    "For CVE-2020-8515, according to NVD this CVE is of allowing remote code execution as root (without authentication) via shell metacharacters to the cgi-bin/mainfunction.cgi URI. Without the need of auuthentication means there is no protection against the attack. Furthermore, the attacker can execute remotely, making the attack even more unpredictable and unavoidable. Thus, it is a large bug.\n",
    "\n"
   ]
  },
  {
   "cell_type": "markdown",
   "metadata": {},
   "source": [
    "******\n",
    "## Q5: Data Analysis\n",
    "In this section, you will be provided a question or statement that you are required to prove/disprove. For each question, you are to provide a statement outlining your answer, using evidence from the dataset as your justification. You are expected to draw upon not only your visualisation skills, but also your hypothesis testing skills where required. That means you expected to justify your answer based on both statistical and visual evidence.\n",
    "\n",
    "Don't forget to state any assumptions you make in the questions in order to clarify your argument.\n",
    "\n",
    "Use the following as a guide to assess the statements given below:\n",
    "- How would you assess the given statement? \n",
    "- What kinds of statistical tests are appropriate to validate the statement? Justify your selection.\n",
    "- How would you present the information related to the statement in a graphical manner?\n",
    "- What is your answer to the statement? Why do you say so?\n",
    "\n",
    "**Hint:** You are not expected to build Machine Learning models to answer this question. "
   ]
  },
  {
   "cell_type": "markdown",
   "metadata": {},
   "source": [
    "#### (Q5.a)\n",
    "#### Statement: \"The sum of the two sub scores (i.e. the Exploitability sub-score and the Impact sub-score) is a 'good' predictor for the Base Score.\"\n",
    "\n",
    "After implementing the **CVSSv3.1** Base Score calculator in Question 2, you may recall that the Base Score is derived from two sub scores (i.e. the Exploitability sub-score and the Impact sub-score). For simplicity, let us explore whether we can get a 'good' estimate for the Base Score just by simply adding up the Exploitability sub-score and the Impact sub-score. \n",
    "\n",
    "[5 marks for code implementation, 5 marks for written response]\n",
    "<span style= 'float: right;'><b>[10 marks]</b></span>"
   ]
  },
  {
   "cell_type": "code",
   "execution_count": 19,
   "metadata": {},
   "outputs": [
    {
     "data": {
      "text/plain": [
       "Ttest_relResult(statistic=-84.12195628661692, pvalue=0.0)"
      ]
     },
     "execution_count": 19,
     "metadata": {},
     "output_type": "execute_result"
    }
   ],
   "source": [
    "# YOUR CODE HERE\n",
    "#ttest\n",
    "expImpact_sum = np.array(cvss_data['v3_exploitabilityScore'] + cvss_data['v3_impactScore'])\n",
    "stats.ttest_rel(expImpact_sum,cvss_data['v3_baseScore'])\n",
    "# (ADD ANY ADDITIONAL CELLS AS REQUIRED)"
   ]
  },
  {
   "cell_type": "code",
   "execution_count": 20,
   "metadata": {},
   "outputs": [
    {
     "data": {
      "text/plain": [
       "Text(0, 0.5, 'v3_baseScore')"
      ]
     },
     "execution_count": 20,
     "metadata": {},
     "output_type": "execute_result"
    },
    {
     "data": {
      "image/png": "[encoded data removed]",
      "text/plain": [
       "<Figure size 720x360 with 1 Axes>"
      ]
     },
     "metadata": {
      "needs_background": "light"
     },
     "output_type": "display_data"
    }
   ],
   "source": [
    "# present data in diagram\n",
    "plt.figure(figsize=(10,5))\n",
    "expImpact_sum1 = pd.DataFrame(expImpact_sum)\n",
    "for col in expImpact_sum1.columns:\n",
    "    plt.scatter(expImpact_sum1[col], cvss_data.v3_baseScore, label='scores')\n",
    "\n",
    "plt.xlabel('Sum of Exploitity and Impact')\n",
    "plt.ylabel('v3_baseScore')"
   ]
  },
  {
   "cell_type": "code",
   "execution_count": 21,
   "metadata": {},
   "outputs": [
    {
     "data": {
      "image/png": "[encoded data removed]",
      "text/plain": [
       "<Figure size 432x288 with 1 Axes>"
      ]
     },
     "metadata": {
      "needs_background": "light"
     },
     "output_type": "display_data"
    }
   ],
   "source": [
    "#compare data in diagram\n",
    "bs_array = np.array(cvss_data['v3_baseScore'])\n",
    "column = [np.array(expImpact_sum1[0]),bs_array]\n",
    "plt.boxplot(column,labels=['sum of sub scores','base score'])\n",
    "plt.show()"
   ]
  },
  {
   "cell_type": "raw",
   "metadata": {},
   "source": [
    "# YOUR WRITTEN ANSWER HERE\n",
    "We create hypothesis:\n",
    "\n",
    "H0:The sum of the two sub scores is not a good predictor for the Base Score.\n",
    "H1:The sum of the two sub scores is a good predictor for the Base Score.\n",
    "\n",
    "After calculations, p-value is around 0.0, which summurise that the data is in relation with the hypothesis.\n",
    "Since p-value is 0.0 which is less than 0.05, therefore we have enough evidence to reject our null hypothesis,H0.\n",
    "In conclusion from test, the sum of the two sub scores, exploitability score and impact score, is a good predictor for the base score."
   ]
  },
  {
   "cell_type": "markdown",
   "metadata": {},
   "source": [
    "#### (Q5.b):\n",
    "\n",
    "#### Statement: \"The entries which require both LOW/None privileges AND LOW attack complexity have a higer CVSS Base Score.\"\n",
    "\n",
    "In this question we are looking at the relationship beetween some of the categorial data that is present in our dataset and our response variable. \n",
    "\n",
    "[5 marks for code implementation, 5 marks for written response]        \n",
    "<span style= 'float: right;'><b>[10 marks]</b></span>"
   ]
  },
  {
   "cell_type": "code",
   "execution_count": 22,
   "metadata": {},
   "outputs": [
    {
     "data": {
      "image/png": "[encoded data removed]",
      "text/plain": [
       "<Figure size 432x288 with 1 Axes>"
      ]
     },
     "metadata": {
      "needs_background": "light"
     },
     "output_type": "display_data"
    }
   ],
   "source": [
    "# YOUR CODE HERE\n",
    "#low/none privileges = 0.85,0.62,0.68\n",
    "#low attack complexity = 0.77\n",
    "index = cvss_data.index\n",
    "privileges = [0.85,0.62,0.68]\n",
    "attackCom_low = cvss_data.loc[cvss_data['v3_attackComplexity'] == 0.77]\n",
    "attackCom_low.loc[attackCom_low['v3_privilegesRequired'].isin(privileges)]\n",
    "\n",
    "#the data without the conditions in statement\n",
    "attackCom_rest = pd.concat([attackCom_low, cvss_data]).drop_duplicates(keep=False)\n",
    "\n",
    "#present the base score of attackCom_low compared to base score in attackCom_rest\n",
    "column = [attackCom_low['v3_baseScore'],attackCom_rest['v3_baseScore']]\n",
    "plt.boxplot(column,labels=['Filtered Base Score','Rest of base score'])\n",
    "plt.show()\n",
    "\n",
    "# (ADD ANY ADDITIONAL CELLS AS REQUIRED)"
   ]
  },
  {
   "cell_type": "code",
   "execution_count": 23,
   "metadata": {},
   "outputs": [
    {
     "name": "stdout",
     "output_type": "stream",
     "text": [
      "Base score evaluation for LOW/None privileges AND LOW attack complexity:\n",
      "count    8784.000000\n",
      "mean        7.236589\n",
      "std         1.719561\n",
      "min         2.300000\n",
      "25%         5.500000\n",
      "50%         7.500000\n",
      "75%         8.800000\n",
      "max        10.000000\n",
      "Name: v3_baseScore, dtype: float64\n",
      "Base score evaluation for rest of privileges and rest of attack complexity:\n",
      "count    426.000000\n",
      "mean       6.628404\n",
      "std        1.341962\n",
      "min        2.200000\n",
      "25%        5.900000\n",
      "50%        7.000000\n",
      "75%        7.500000\n",
      "max        9.000000\n",
      "Name: v3_baseScore, dtype: float64\n"
     ]
    }
   ],
   "source": [
    "print(\"Base score evaluation for LOW/None privileges AND LOW attack complexity:\")\n",
    "print(attackCom_low['v3_baseScore'].describe())\n",
    "print(\"Base score evaluation for rest of privileges and rest of attack complexity:\")\n",
    "print(attackCom_rest['v3_baseScore'].describe())"
   ]
  },
  {
   "cell_type": "code",
   "execution_count": 24,
   "metadata": {},
   "outputs": [
    {
     "data": {
      "text/plain": [
       "Ttest_relResult(statistic=2.2233468783138157, pvalue=0.0308355151615276)"
      ]
     },
     "execution_count": 24,
     "metadata": {},
     "output_type": "execute_result"
    }
   ],
   "source": [
    "#ttest\n",
    "dataset1 = attackCom_low['v3_baseScore'].sample(50,random_state=None)\n",
    "dataset2 = attackCom_rest['v3_baseScore'].sample(50,random_state=None)\n",
    "stats.ttest_rel(dataset1,dataset2)"
   ]
  },
  {
   "cell_type": "raw",
   "metadata": {},
   "source": [
    "# YOUR WRITTEN ANSWER HERE\n",
    "H0: The entries which require both LOW/None privileges AND LOW attack complexity not have a higer CVSS Base Score.\n",
    "\n",
    "H1: The entries which require both LOW/None privileges AND LOW attack complexity have a higer CVSS Base Score.\n",
    "\n",
    "After calculation p-value is round off to 0.00, which summarises the data in relation to the hypothesis.\n",
    "\n",
    "Since p-value is less than significance level (𝛼 = 0.05) there is no enough evidence to proof for H0. Thus, we get H1, the entries which require both LOW/None privileges AND LOW attack complexity have a higer CVSS Base Score."
   ]
  },
  {
   "cell_type": "markdown",
   "metadata": {},
   "source": [
    "******\n",
    "## Q6: Classification"
   ]
  },
  {
   "cell_type": "markdown",
   "metadata": {
    "tags": []
   },
   "source": [
    "Now you are asked to build a classification model to predict the Threat level (Base Severity) of a vulnerability. \n",
    "\n",
    "Your task is as follows:\n",
    "#### (Q6.a): Train a classification model to predict Threat level (Base Severity). You are able to choose any variables in the dataset, except of course the Base Scores, Sub Scores and Base Severity. (10 marks)\n",
    "#### (Q6.b): Why did you implement this particular model? What are the advantages and limitations of this type of model? (2 marks)\n",
    "#### (Q6.c): What are your considerations in implementing the training/testing split? Why did you make this choice? (2 marks)\n",
    "#### (Q6.d): Briefly explain your training considerations (including iterations, hyper-parameters and variable selection). (2 marks)\n",
    "#### (Q6.e):  How did you perform testing and validation? Which metrics were used in the validation? (2 marks)\n",
    "#### (Q6.f): After running your experiment, provide a written answer highlighting your results and the outcome of your work. (2 marks)\n",
    "\n",
    "<span style= 'float: right;'><b>[20 marks]</b></span>"
   ]
  },
  {
   "cell_type": "code",
   "execution_count": 25,
   "metadata": {},
   "outputs": [
    {
     "data": {
      "text/html": [
       "<div>\n",
       "<style scoped>\n",
       "    .dataframe tbody tr th:only-of-type {\n",
       "        vertical-align: middle;\n",
       "    }\n",
       "\n",
       "    .dataframe tbody tr th {\n",
       "        vertical-align: top;\n",
       "    }\n",
       "\n",
       "    .dataframe thead th {\n",
       "        text-align: right;\n",
       "    }\n",
       "</style>\n",
       "<table border=\"1\" class=\"dataframe\">\n",
       "  <thead>\n",
       "    <tr style=\"text-align: right;\">\n",
       "      <th></th>\n",
       "      <th>v3_baseScore</th>\n",
       "    </tr>\n",
       "  </thead>\n",
       "  <tbody>\n",
       "    <tr>\n",
       "      <th>v3_baseScore</th>\n",
       "      <td>1.000000</td>\n",
       "    </tr>\n",
       "    <tr>\n",
       "      <th>v3_impactScore</th>\n",
       "      <td>0.852318</td>\n",
       "    </tr>\n",
       "    <tr>\n",
       "      <th>iss</th>\n",
       "      <td>0.850453</td>\n",
       "    </tr>\n",
       "    <tr>\n",
       "      <th>v3_availabilityImpact</th>\n",
       "      <td>0.703014</td>\n",
       "    </tr>\n",
       "    <tr>\n",
       "      <th>v3_integrityImpact</th>\n",
       "      <td>0.672871</td>\n",
       "    </tr>\n",
       "    <tr>\n",
       "      <th>v3_confidentialityImpact</th>\n",
       "      <td>0.642334</td>\n",
       "    </tr>\n",
       "    <tr>\n",
       "      <th>v3_userInteraction</th>\n",
       "      <td>0.428413</td>\n",
       "    </tr>\n",
       "    <tr>\n",
       "      <th>v3_attackComplexity</th>\n",
       "      <td>0.074764</td>\n",
       "    </tr>\n",
       "  </tbody>\n",
       "</table>\n",
       "</div>"
      ],
      "text/plain": [
       "                          v3_baseScore\n",
       "v3_baseScore                  1.000000\n",
       "v3_impactScore                0.852318\n",
       "iss                           0.850453\n",
       "v3_availabilityImpact         0.703014\n",
       "v3_integrityImpact            0.672871\n",
       "v3_confidentialityImpact      0.642334\n",
       "v3_userInteraction            0.428413\n",
       "v3_attackComplexity           0.074764"
      ]
     },
     "execution_count": 25,
     "metadata": {},
     "output_type": "execute_result"
    }
   ],
   "source": [
    "# YOUR CODE HERE\n",
    "#view the correlation between the columns and base score\n",
    "cvss_data['v3_attackComplexity'] = cvss_data['v3_attackComplexity'].astype(float)\n",
    "cvss_data['v3_userInteraction'] = cvss_data['v3_userInteraction'].astype(float)\n",
    "cvss_data['v3_availabilityImpact'] = cvss_data['v3_availabilityImpact'].astype(float)\n",
    "cvss_data['v3_confidentialityImpact'] = cvss_data['v3_confidentialityImpact'].astype(float)\n",
    "cvss_data['v3_integrityImpact'] = cvss_data['v3_integrityImpact'].astype(float)\n",
    "cvss_data['iss'] = cvss_data['iss'].astype(float)\n",
    "cvss_data.corr()[['v3_baseScore']].sort_values(by='v3_baseScore', ascending=False)\n"
   ]
  },
  {
   "cell_type": "code",
   "execution_count": 26,
   "metadata": {},
   "outputs": [
    {
     "data": {
      "image/png": "[encoded data removed]",
      "text/plain": [
       "<Figure size 720x432 with 2 Axes>"
      ]
     },
     "metadata": {
      "needs_background": "light"
     },
     "output_type": "display_data"
    }
   ],
   "source": [
    "#present correlations in heatmap\n",
    "plt.figure(figsize=(10, 6))\n",
    "heatmap = sns.heatmap(cvss_data.corr()[['v3_baseScore']], vmin=-1, vmax=1, annot=True, cmap='BrBG')"
   ]
  },
  {
   "cell_type": "code",
   "execution_count": 27,
   "metadata": {},
   "outputs": [
    {
     "name": "stdout",
     "output_type": "stream",
     "text": [
      "The intercept of this model is: 1.9196342253769512\n",
      "The coefficient of this model is: 7.202847075364847\n",
      "The equation of this model is: \ty = 1.9196342253769512 + 7.202847075364847*x\n",
      "The regression of this model is:  19098.954687911686\n",
      "The Accuracy(R^2) of using train score for this model is: 0.8929143915664651\n",
      "The Accuracy(R^2) of using test score for this model is: 0.898092545840627\n",
      "The MSE of this model is: 0.30426223572446337\n"
     ]
    }
   ],
   "source": [
    "#input features\n",
    "x1 = cvss_data[['v3_integrityImpact','v3_confidentialityImpact','v3_availabilityImpact']]\n",
    "q6a = cvss_data\n",
    "q6a['compare'] = q6a['v3_privilegesRequired']*q6a['v3_attackComplexity']*q6a['v3_userInteraction']\n",
    "x2 = q6a[['compare','v3_integrityImpact','v3_confidentialityImpact','v3_availabilityImpact']] \n",
    "#output features\n",
    "y = cvss_data['v3_baseScore']\n",
    "\n",
    "#split into 80%train 20%testing\n",
    "x_train,x_test,y_train,y_test = train_test_split(x2,y,test_size=0.2,train_size=0.8)\n",
    "#set the Linear Regression Model\n",
    "lr = LinearRegression()\n",
    "lr.fit(x_train,y_train)\n",
    "#predictions using model\n",
    "train_pred = lr.predict(x_train)  \n",
    "test_pred = lr.predict(x_test)  \n",
    "regression = sum((train_pred - np.mean(y_test))**2)\n",
    "equation = '\\ty' + ' = ' + str(lr.intercept_)+' + ' +str(lr.coef_[0]) + '*x'\n",
    "\n",
    "#print the details\n",
    "print(\"The intercept of this model is:\", lr.intercept_)\n",
    "print(\"The coefficient of this model is:\", lr.coef_[0])\n",
    "print(\"The equation of this model is:\", equation)\n",
    "print(\"The regression of this model is: \", regression)\n",
    "print(\"The Accuracy(R^2) of using train score for this model is:\", lr.score(x_train,y_train))\n",
    "print(\"The Accuracy(R^2) of using test score for this model is:\", lr.score(x_test,y_test))\n",
    "print(\"The MSE of this model is:\", mean_squared_error(y_test,test_pred))\n"
   ]
  },
  {
   "cell_type": "raw",
   "metadata": {},
   "source": [
    "# YOUR WRITTEN ANSWER HERE\n",
    "6b) I looked into using Linear Regression simply because I only learnt two types of model so far, one is Linear Regression and the other one is Logistic Regression. As my data are mainly numerical values, I wish to implement a model which is simpler,easier to implement and is able to deal with numerical values, therefore I chose Linear Regression model. However, its limitations are it leads to overfitting and there is also an assumption of the independent and dependent variables are linearly related being made.\n",
    "\n",
    "6c) What are your considerations in implementing the training/testing split? Why did you make this choice? \n",
    "Since the data provided in cvss_dataset is large. Therefore, there are enough data to be split into train and test data. I wish to have more on trainning, so I divided the percentage of train and test into 80% and 20% respectively.\n",
    "\n",
    "\n",
    "6d)I wish to have all the parameters in numerical values, thus I chose to use base score instead of base severity. The results can be changed to their respective metrics with the documentation given in the 'CVSS v3.1 Guide'.\n",
    "\n",
    "I first looked into the correlations between base score with each category. Those with correlation higher than 0.5 ,'v3_integrityImpact','v3_confidentialityImpact' and 'v3_availabilityImpact', are good choices. Data such as 'v3_attackComplexity's correlation with base score is too low, however they still have some relation to base score. Therefore, I did some manipulations with the low correlation data to increase the R-squared scores. This will enable us to have a more accurate and useful results after predictions.\n",
    "\n",
    "6e)I calculated the accuracy (R^2) and mean-squared-error(MSE) to check on the accuracy and relevancy of my model. To check on the fitting of model, I used x_testing data and y_testig data to calculate the model's R-squared. \n",
    "To check on the accuracy of model, I used x_testing data to come up with a predicted result. Then I validate with the other y_testing data to compare with the predicted result and check on their average difference.\n",
    "\n",
    "\n",
    "\n",
    "6f) The results are base scores, therfore to predict predict the base severity, we need to convert to the following metrics level.\n",
    "The Accuracy(R^2) of this model can be round off to 0.9. Around 90% of the dependent output attributes can be shown by the model. This suggests that the performance of the model I implemented can be considered as efficient.\n",
    "Furthermore, the value of MSE is around 0.3. This suggests that the model is has an average difference about 30% between the actual data and predicted data. An average difference of 30% can be considered as low which suggests that the model can be accurate in predicting the base score.\n",
    "\n",
    "After this relation is found, we can use its results as parmaters which has strong relation to establish the model.\n",
    "\n"
   ]
  },
  {
   "cell_type": "markdown",
   "metadata": {
    "tags": []
   },
   "source": [
    "******\n",
    "## Q7: Apply your knowledge to the problem domain\n",
    "\n",
    "The government is worried about security issues that target user involvement over the internet.  You have been asked to help identify relevant vulnerabilities that need to be prioritised for patching.  While the CVSS systems provide a good general system for determining the Threat Level (Severity) of a vulnerability, you are only concerned with weaknesses that can be exploited over a network, and require user interaction.\n",
    "\n",
    "Your task is as follows:    \n",
    "#### (Q7.a)\n",
    "- Develop and present a basic heuristic to classify the Threat Level to identify which products need patching relevant to the above given context. A heuristic is a simple set of rules or a rule of thumb (e.g. 'If the fire alarm is activated, then leave the building' or 'If there are grey clouds, bring the washing in as it might rain' ). (2 marks)\n",
    "<br>(Similar to the Q6 above, you are able to choose any variables in the dataset, except of course the Base Scores, Sub Scores and Base Severity)\n",
    "- Run your heuristic over the dataset, and add the output to each row on the dataset, under a new column named `Threat Classification`.  (5 marks)\n",
    "- Justify your use of variables and the reasoning behind your heuristic in the written section below and explain how this might be an effective solution to stopping attacks. (3 marks)\n",
    "\n",
    "<span style= 'float: right;'><b>[10 marks]</b></span>\n",
    "\n",
    "<br><br>\n",
    "**Additional question for COMP6420 students: [worth extra 10 marks]**\n",
    "#### (Q7.b)\n",
    " - Compare your heuristic result with the actual result (threat level) (5 marks)\n",
    " - Based on your result, how would you improve your heuristic? (no implementation is required) (5 marks)\n"
   ]
  },
  {
   "cell_type": "code",
   "execution_count": 42,
   "metadata": {},
   "outputs": [
    {
     "name": "stdout",
     "output_type": "stream",
     "text": [
      "Counter({0.85: 3057, 0.55: 942, 0.62: 20, 0.2: 3})\n"
     ]
    }
   ],
   "source": [
    "# YOUR CODE HERE\n",
    "#v3_attackVector\n",
    "#v3_userInteraction\n",
    "q7a = cvss_data\n",
    "ui = q7a['v3_userInteraction']\n",
    "av = q7a['v3_attackVector']\n",
    "#filter out all the v3_attackVector:network with userInteraction: required\n",
    "required_ui = q7a.query(\"v3_userInteraction == 0.62\")\n",
    "required = Counter(required_ui['v3_attackVector'])\n",
    "required_network = q7a.query(\"v3_userInteraction == 0.62 & v3_attackVector == 0.85\")\n",
    "print(required)\n",
    "# (ADD ANY ADDITIONAL CELLS AS REQUIRED)"
   ]
  },
  {
   "cell_type": "code",
   "execution_count": 53,
   "metadata": {},
   "outputs": [
    {
     "name": "stdout",
     "output_type": "stream",
     "text": [
      "The intercept of this model is: 3.9351288784191043\n",
      "The coefficient of this model is: 1.6980151846879596\n",
      "The equation of this model is: \ty = 3.9351288784191043 + 1.6980151846879596*x\n",
      "The regression of this model is:  15290.422154958891\n",
      "The Accuracy(R^2) of using train score for this model is: 0.714397436820815\n",
      "The Accuracy(R^2) of using test score for this model is: 0.7204096827792371\n",
      "The MSE of this model is: 0.8325450907062496\n"
     ]
    }
   ],
   "source": [
    "#input features\n",
    "x1 = cvss_data[['v3_integrityImpact','v3_confidentialityImpact','v3_availabilityImpact']]\n",
    "q7a = cvss_data\n",
    "q7a['Threat_Classification'] = q7a['v3_userInteraction']*q7a['v3_userInteraction']\n",
    "x2 = q7a[['Threat_Classification','v3_integrityImpact','v3_confidentialityImpact','v3_availabilityImpact']] \n",
    "#output features\n",
    "y = cvss_data['v3_baseScore']\n",
    "\n",
    "#split into 80%train 20%testing\n",
    "x_train,x_test,y_train,y_test = train_test_split(x2,y,test_size=0.2,train_size=0.8)\n",
    "#set the Linear Regression Model\n",
    "lr = LinearRegression()\n",
    "lr.fit(x_train,y_train)\n",
    "#predictions using model\n",
    "train_pred = lr.predict(x_train)  \n",
    "test_pred = lr.predict(x_test)  \n",
    "regression = sum((train_pred - np.mean(y_test))**2)\n",
    "equation = '\\ty' + ' = ' + str(lr.intercept_)+' + ' +str(lr.coef_[0]) + '*x'\n",
    "\n",
    "#print the details\n",
    "print(\"The intercept of this model is:\", lr.intercept_)\n",
    "print(\"The coefficient of this model is:\", lr.coef_[0])\n",
    "print(\"The equation of this model is:\", equation)\n",
    "print(\"The regression of this model is: \", regression)\n",
    "print(\"The Accuracy(R^2) of using train score for this model is:\", lr.score(x_train,y_train))\n",
    "print(\"The Accuracy(R^2) of using test score for this model is:\", lr.score(x_test,y_test))\n",
    "print(\"The MSE of this model is:\", mean_squared_error(y_test,test_pred))"
   ]
  },
  {
   "cell_type": "code",
   "execution_count": 55,
   "metadata": {},
   "outputs": [
    {
     "name": "stdout",
     "output_type": "stream",
     "text": [
      "Counter({0.7224999999999999: 5188, 0.3844: 4022})\n"
     ]
    }
   ],
   "source": [
    "count_level = Counter(q7a['Threat_Classification'])\n",
    "print(count_level)"
   ]
  },
  {
   "cell_type": "raw",
   "metadata": {},
   "source": [
    "# YOUR WRITTEN ANSWER HERE\n",
    "(q7a) \n",
    "The heuristic I developed is that if the threat score is low, it will need the patch which helps in weakness as user interaction required and exploit over network.\n",
    "\n",
    "As we can see from the count_level. The threat classification scores ranged from about 0.38 to 0.72.\n",
    "0.722 will be the \"HIGH\" level\n",
    "0.38 will be the \"LOW\" level\n",
    "And according to the table'q7a' the threat classification scores which are low requires the patches in the above given context. \n",
    "The context above only focuses on attacks required user interaction and exploit over network. Therefore I will look into user interaction and attack vectors in cvss dataset. By calculation these two columns I then derived the threat score which is defined by me. This threat classification score can be useful in determine if it requires patch that help on attacks over network and requires user interaction. From the count level. We can observe that there are only two values. The low level value 0.3844 will be required and the other high level score will be not required. The level and data is very clear to differentiate the need on the patch tackles requires user interaction and exploit over network."
   ]
  }
 ],
 "metadata": {
  "kernelspec": {
   "display_name": "Python 3 (ipykernel)",
   "language": "python",
   "name": "python3"
  },
  "language_info": {
   "codemirror_mode": {
    "name": "ipython",
    "version": 3
   },
   "file_extension": ".py",
   "mimetype": "text/x-python",
   "name": "python",
   "nbconvert_exporter": "python",
   "pygments_lexer": "ipython3",
   "version": "3.7.4"
  }
 },
 "nbformat": 4,
 "nbformat_minor": 4
}
